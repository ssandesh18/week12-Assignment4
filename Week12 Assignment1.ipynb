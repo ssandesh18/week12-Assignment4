{
  "nbformat": 4,
  "nbformat_minor": 0,
  "metadata": {
    "colab": {
      "provenance": []
    },
    "kernelspec": {
      "name": "python3",
      "display_name": "Python 3"
    },
    "language_info": {
      "name": "python"
    }
  },
  "cells": [
    {
      "cell_type": "markdown",
      "source": [
        "Q1: What is the difference between a t-test and a z-test? Provide an example scenario where you would\n",
        "use each type of test.\n",
        "\n",
        "Ans.\n",
        "\n",
        "Key Differences Between t-tests and Z-tests\n",
        "The t-test and Z-test are used to compare sample statistics to population parameters, but they differ in their underlying assumptions, applications, and the conditions under which they are most appropriate. Let us analyze and understand the differences between the two tests:\n",
        "\n",
        "Sample size considerations\n",
        "t-test: The t-test is typically used when the sample size is small, generally less than 30. It is designed to be robust when the sample size does not meet the threshold needed for applying the Central Limit Theorem.\n",
        "Z-test: The Z-test is used when the sample size is large, typically greater than 30. In large samples, the sampling distribution of the mean is approximately normal, which justifies using the Z-test.\n",
        "Population variance knowledge\n",
        "t-test: The t-test is used when the population variance is unknown. Instead of the population variance, the sample variance is used to calculate the test statistic. The t-distribution, which has heavier tails than the normal distribution, accounts for the additional uncertainty due to estimating the population variance.\n",
        "Z-test: The Z-test requires that the population variance is known. This is a key assumption because it allows the use of the standard normal distribution to calculate the test statistic. When the population variance is known, the Z-test provides more precise estimates.\n",
        "Distribution assumptions\n",
        "t-test: The t-test assumes that the data within each group are approximately normally distributed. This is particularly important when dealing with small sample sizes. The test statistic in a t-test follows a t-distribution, which has wider tails than the normal distribution. This accounts for the additional variability and uncertainty when estimating the population standard deviation from a small sample.\n",
        "Z-test: The Z-test assumes that the data are normally distributed or that the sample size is large enough to apply for the Central Limit Theorem. The Central Limit Theorem ensures that, for large samples, the sampling distribution of the mean is approximately normal, even if the underlying data are not perfectly normal.\n",
        "\n",
        "The average family annual income in India is 200k, with a standard deviation of 5k, and the average family annual income in Delhi is 300k.\n",
        "\n",
        "Then Z-Score for Delhi will be.\n",
        "\n",
        "Z-Score\n",
        "=\n",
        "x - μ/σ =\n",
        "\n",
        "300 − 200/5 = 20\n",
        "\n",
        "\n",
        "\n",
        "This indicates that the average family’s annual income in Delhi is 20 standard deviations above the mean of the population (India)."
      ],
      "metadata": {
        "id": "nbeRN7vUOV4-"
      }
    },
    {
      "cell_type": "markdown",
      "source": [
        "Q2: Differentiate between one-tailed and two-tailed tests.\n",
        "confidence level using a t-test.\n",
        "\n",
        "Ans.\n",
        "\n",
        "The main difference between one-tailed and two-tailed tests is the number of critical regions and the direction in which the test checks for differences:\n",
        "One-tailed test\n",
        "Has one critical region, either on the left or right side of the probability distribution curve. The test parameter is either more or less than the critical value. One-tailed tests are used to show evidence that variation is better than the control.\n",
        "Two-tailed test\n",
        "Has two critical regions, one on the left and one on the right side of the probability distribution curve. The results are either within or outside the critical value. Two-tailed tests are used to show evidence that the control and variation are different.\n",
        "When using a two-tailed test, the critical regions must be half the size of the critical regions in a one-tailed test to maintain a constant confidence interval. This means that when reading tables, you need to consider α2 rather than α.\n",
        "The choice between one-tailed and two-tailed tests depends on factors such as the available sample size, the advantages of detecting negative effects, and the convenience of aligning confidence intervals with hypothesis testing."
      ],
      "metadata": {
        "id": "52DWOWF7OZVG"
      }
    },
    {
      "cell_type": "markdown",
      "source": [
        "Q3: Explain the concept of Type 1 and Type 2 errors in hypothesis testing. Provide an example scenario for\n",
        "each type of error.\n",
        "\n",
        "Ans.\n",
        "\n",
        "Type I and Type II errors are mistakes that can occur when testing a hypothesis. A Type I error occurs when the null hypothesis is rejected when it is actually true, while a Type II error occurs when the null hypothesis is not rejected when it is actually false.\n",
        "Here are some examples of Type I and Type II errors:\n",
        "Testing for a virus\n",
        "A Type I error occurs when a patient tests positive for a virus when they are not infected, while a Type II error occurs when a patient tests negative for a virus when they are infected.\n",
        "Trying someone for murder\n",
        "A Type I error occurs when an innocent person is found guilty, while a Type II error occurs when a guilty person is found not guilty.\n",
        "Rock climbing equipment\n",
        "A Type I error occurs when someone thinks their rock climbing equipment is not safe when it actually is, while a Type II error occurs when someone thinks their rock climbing equipment is safe when it actually is not.\n",
        "Type I errors are also known as false positives, while Type II errors are also known as false negatives. The risks of making these errors are unavoidable, but it is possible to reduce them by adjusting the significance level. The type of error that should be limited depends on the situation. For example, it is better to limit false negatives when testing for a virus, but it is better to limit false positives when dealing with the judicial system."
      ],
      "metadata": {
        "id": "TgQbswyJObP-"
      }
    },
    {
      "cell_type": "markdown",
      "source": [
        "Q4: Explain Bayes's theorem with an example.\n",
        "determine if the caffeine has a significant effect on reaction time at a 90%\n",
        "\n",
        "Ans.\n",
        "\n",
        "Bayes' theorem is a probability and statistics principle that uses conditional probability to calculate the probability of an event after new information is available. It's based on the idea that the probability of an event can be updated after new data is collected.\n",
        "Here's an example of Bayes' theorem in action:\n",
        "Card game: In a deck of 52 cards, the probability of picking a queen is 4/52, or about 7.69%.\n",
        "Here are some other terms related to Bayes' theorem:\n",
        "Conditional probability\n",
        "The probability of an event occurring given that another event has already happened. For example, P(A|B) represents the probability of event A happening given that event B has occurred.\n",
        "Posterior probability\n",
        "The revised probability of an event happening after new information is included. It's calculated by revising the prior probability using Bayes' theorem.\n",
        "Prior probability\n",
        "The probability of an event's occurrence based on previous information.\n",
        "Marginal probability\n",
        "The probability of an event irrespective of the outcome of another variable.\n",
        "Bayes' theorem has many applications, including determining the accuracy of medical test results.\n",
        "\n",
        "P(E1|A) = (P(A|E1) * P(E1)) / P(A)\n",
        "P(E1|A) = (P(A|E1) * P(E1)) / (P(A|E1) * P(E1)) + (P(A|E2) * P(E2))\n",
        "P(E1|A) = (3/51/2) / ((3/51/2) + (3/7*1/2))\n",
        "P(E1|A) = 7/12\n",
        "P(E1|A) = 0.583\n",
        "\n",
        "Hence the probability of the black ball drawn is from Bag 1 is 0.583"
      ],
      "metadata": {
        "id": "Ptky7f15OdKe"
      }
    },
    {
      "cell_type": "markdown",
      "source": [
        "Q5: What is a confidence interval? How to calculate the confidence interval, explain with an example.\n",
        "\n",
        "Ans.\n",
        "\n",
        "A confidence interval is a range of values that is likely to contain the true population mean, based on a sample of data. It's calculated by adding and subtracting the margin of error from the sample mean. The confidence interval's width depends on the desired level of certainty, or precision of the estimate.\n",
        "\n",
        "Here are some examples of confidence intervals:\n",
        "95% confidence interval\n",
        "If the confidence interval is 9.50 to 10.50, then there is a 95% chance that the true value is within that range.\n",
        "Confidence interval for mango weights\n",
        "If the mean is 80, the standard deviation is 4.3, and the number of observations is 40, then the confidence interval is 80 ± 1.33. This means that the mangoes are likely to be between 78.67 and 81.33.\n",
        "Confidence intervals are often used to determine the certainty of a population's mean value. They can also be used to calculate the probability that a larger population will have similar outcomes to the sample."
      ],
      "metadata": {
        "id": "IR5jcHE3OfFV"
      }
    },
    {
      "cell_type": "markdown",
      "source": [
        "Q6. Use Bayes' Theorem to calculate the probability of an event occurring given prior knowledge of the\n",
        "event's probability and new evidence. Provide a sample problem and solution.\n",
        "\n",
        "Ans.\n",
        "\n",
        "A person has undertaken a job. The probabilities of completion of the job on time with and without rain are 0.44 and 0.95 respectively. If the probability that it will rain is 0.45, then determine the probability that the job will be completed on time.\n",
        "\n",
        "Solution:\n",
        "\n",
        "\n",
        "Let E1 be the event that the mining job will be completed on time and E2 be the event that it rains. We have,\n",
        "\n",
        "\n",
        "P(A) = 0.45,\n",
        "P(no rain) = P(B) = 1 − P(A) = 1 − 0.45 = 0.55\n",
        "\n",
        "\n",
        "By multiplication law of probability,\n",
        "P(E1) = 0.44, and P(E2) = 0.95\n",
        "\n",
        "\n",
        "Since, events A and B form partitions of the sample space S, by total probability theorem, we have\n",
        "\n",
        "\n",
        "P(E) = P(A) P(E1) + P(B) P(E2)\n",
        "⇒ P(E) = 0.45 × 0.44 + 0.55 × 0.95\n",
        "⇒ P(E) = 0.198 + 0.5225 = 0.7205\n",
        "\n",
        "\n",
        "So, the probability that the job will be completed on time is 0.7205"
      ],
      "metadata": {
        "id": "5rWoOGglOg69"
      }
    },
    {
      "cell_type": "markdown",
      "source": [
        "Q7. Calculate the 95% confidence interval for a sample of data with a mean of 50 and a standard deviation\n",
        "of 5. Interpret the results.\n"
      ],
      "metadata": {
        "id": "RRp5eULTOi4f"
      }
    },
    {
      "cell_type": "code",
      "source": [
        "#Sample size is not given assuming it as 50\n",
        "\n",
        "#Since population standard deviation is unkown we will use t test\n",
        "\n",
        "import math\n",
        "import scipy.stats as stats\n",
        "\n",
        "# Define the sample mean, standard deviation, and sample size\n",
        "sample_mean = 50\n",
        "sample_std_dev = 5\n",
        "sample_size = 50\n",
        "\n",
        "# Signficance Level\n",
        "ci=0.95\n",
        "alpha = 1-ci\n",
        "dof=sample_size-1\n",
        "\n",
        "# Calculate the critical value for a 95% confidence interval\n",
        "t_crit = stats.t.ppf(1-alpha/2, df=dof)\n",
        "print(f't statistic for significance level {alpha:.3f} for sample size of {sample_size} is : {t_crit:.2f}')\n",
        "\n",
        "# Calculate the standard error\n",
        "std_error = sample_std_dev / math.sqrt(sample_size)\n",
        "\n",
        "# Calculate the lower and upper bounds of the confidence interval\n",
        "lower_bound = sample_mean - t_crit * std_error\n",
        "upper_bound = sample_mean + t_crit * std_error\n",
        "\n",
        "# Print the results\n",
        "print(f\"The 95% confidence interval is ({lower_bound:.2f}, {upper_bound:.2f})\")"
      ],
      "metadata": {
        "colab": {
          "base_uri": "https://localhost:8080/"
        },
        "id": "bNIIeFniUIFw",
        "outputId": "158eb138-5a1d-4075-f7d9-b7949d7aff02"
      },
      "execution_count": 1,
      "outputs": [
        {
          "output_type": "stream",
          "name": "stdout",
          "text": [
            "t statistic for significance level 0.050 for sample size of 50 is : 2.01\n",
            "The 95% confidence interval is (48.58, 51.42)\n"
          ]
        }
      ]
    },
    {
      "cell_type": "markdown",
      "source": [
        "Q8. What is the margin of error in a confidence interval? How does sample size affect the margin of error?\n",
        "Provide an example of a scenario where a larger sample size would result in a smaller margin of error.\n",
        "\n",
        "Ans.\n",
        "\n",
        "The margin of error in a confidence interval is the range of values around the sample statistic (such as the sample mean) within which we expect the true population parameter (such as the population mean) to lie with a certain level of confidence. The margin of error is affected by the sample size, level of confidence, and standard deviation of the population.\n",
        "\n",
        "As the sample size increases, the margin of error decreases because larger samples provide more information about the population, and hence the sample statistics are more likely to be representative of the population.\n",
        "\n",
        "The decrease in margin of error with an increase in sample size follows the square root law, which states that the margin of error decreases by the square root of the sample size.\n",
        "\n",
        "Suppose we want to estimate the average time spent by students studying for a particular exam. We take two samples, one with 50 students (Sample A) and another with 500 students (Sample B). We calculate the sample mean and standard deviation for each sample.\n",
        "\n",
        "Sample A: Sample Mean = 4 hours, Sample Standard Deviation = 1 hour, Sample Size (n) = 50\n",
        "Sample B: Sample Mean = 4 hours, Sample Standard Deviation = 1 hour, Sample Size (n) = 500\n",
        "\n",
        "Assuming a 95% confidence level, we can calculate the margin of error for each sample using the appropriate critical value (Z or t):\n",
        "\n",
        "For Sample A:\n",
        "\n",
        "Margin of Error = Z * (σ / √n) = Z * (1 / √50) ≈ 0.181 (Let's assume Z = 1.96 for a 95% confidence level.)\n",
        "\n",
        "For Sample B:\n",
        "\n",
        "Margin of Error = Z * (σ / √n) = Z * (1 / √500) ≈ 0.045 (Let's assume Z = 1.96 for a 95% confidence level.)\n",
        "\n",
        "From the example we notice the margin of error for Sample B (larger sample size) is significantly smaller than the margin of error for Sample A."
      ],
      "metadata": {
        "id": "PFw7gYziOkr1"
      }
    },
    {
      "cell_type": "markdown",
      "source": [
        "Q9. Calculate the z-score for a data point with a value of 75, a population mean of 70, and a population\n",
        "standard deviation of 5. Interpret the results.\n"
      ],
      "metadata": {
        "id": "Ash3YHNtOmf9"
      }
    },
    {
      "cell_type": "code",
      "source": [
        "#For Z score\n",
        "x = 75\n",
        "pop_mean = 70\n",
        "pop_std = 5\n",
        "\n",
        "z = (x - pop_mean) / (pop_std)\n",
        "\n",
        "print(f\"The Z score is  : {z}\")\n",
        "\n",
        "#This means that the data point is 1 standard deviation above the population mean.\n",
        "#A positive z-score indicates that the data point is above the mean.\n",
        "#A negative z-score indicates that it is below the mean.\n",
        "#The magnitude of the z-score tells us how far away the data point is from the mean in terms of standard deviations."
      ],
      "metadata": {
        "colab": {
          "base_uri": "https://localhost:8080/"
        },
        "id": "dqvNuTOJUUz4",
        "outputId": "32bb1c20-719b-4d7c-90d5-f618c352b17f"
      },
      "execution_count": 2,
      "outputs": [
        {
          "output_type": "stream",
          "name": "stdout",
          "text": [
            "The Z score is  : 1.0\n"
          ]
        }
      ]
    },
    {
      "cell_type": "markdown",
      "source": [
        "Q10. In a study of the effectiveness of a new weight loss drug, a sample of 50 participants lost an average\n",
        "of 6 pounds with a standard deviation of 2.5 pounds. Conduct a hypothesis test to determine if the drug is\n",
        "significantly effective at a 95% confidence level using a t-test.\n"
      ],
      "metadata": {
        "id": "RXxU7YjFOoDn"
      }
    },
    {
      "cell_type": "code",
      "source": [
        "import math\n",
        "from scipy.stats import t\n",
        "\n",
        "null_hypothesis = \"The drug has no effect on the body\"\n",
        "alternate_hypothesis = \"The drug is significantly effective on the body\"\n",
        "\n",
        "mu = 0 #assumed to be 0 under null hypothesis\n",
        "sample_size =50\n",
        "sample_mean=6\n",
        "sample_std = 2.5\n",
        "ci =0.95\n",
        "alpha = 1-ci\n",
        "dof = sample_size-1\n",
        "\n",
        "t_score = (sample_mean - mu) / (sample_std / math.sqrt(sample_size))\n",
        "p_value = 2 * (1 - t.cdf((t_score), df=dof))\n",
        "\n",
        "# Compare p-value with alpha and make a conclusion\n",
        "print(f\"t-statistic: {t_score}\")\n",
        "print(f\"p-value: {p_value}\")\n",
        "if p_value < alpha:\n",
        "    print(f\"Reject the null hypothesis. {alternate_hypothesis}.\")\n",
        "else:\n",
        "    print(f\"Fail to reject the null hypothesis. {null_hypothesis}.\")"
      ],
      "metadata": {
        "colab": {
          "base_uri": "https://localhost:8080/"
        },
        "id": "RBgS2Q8BUawg",
        "outputId": "a1c59ae4-5b25-4228-95f4-ea80138165bf"
      },
      "execution_count": 3,
      "outputs": [
        {
          "output_type": "stream",
          "name": "stdout",
          "text": [
            "t-statistic: 16.970562748477143\n",
            "p-value: 0.0\n",
            "Reject the null hypothesis. The drug is significantly effective on the body.\n"
          ]
        }
      ]
    },
    {
      "cell_type": "markdown",
      "source": [
        "Q11. In a survey of 500 people, 65% reported being satisfied with their current job. Calculate the 95%\n",
        "confidence interval for the true proportion of people who are satisfied with their job.\n"
      ],
      "metadata": {
        "id": "5u5ZrB7FOqPN"
      }
    },
    {
      "cell_type": "code",
      "source": [
        "'''The formula for the confidence interval for a population proportion is:\n",
        "\n",
        "Confidence Interval = Sample Proportion ± Z * √(Sample Proportion * (1 - Sample Proportion) / Sample Size)\n",
        "\n",
        "Where:\n",
        "\n",
        "Sample Proportion (p̂): The proportion of people in the sample who reported being satisfied with their job.\n",
        "In this case, it is 65%, which can be expressed as 0.65.\n",
        "Z: The critical value from the standard normal distribution corresponding to the desired confidence level.\n",
        "For a 95% confidence level, Z is approximately 1.96.\n",
        "Sample Size (n): The number of people in the survey. '''\n",
        "\n",
        "n = 500\n",
        "p=0.65\n",
        "z = 1.96 #for 95% ci\n",
        "\n",
        "ci_upper = p + z * math.sqrt(p*(1-p)/n)\n",
        "ci_lower = p - z * math.sqrt(p*(1-p)/n)\n",
        "\n",
        "print(f\"For 95 % Confidence Interval the true proption Of people satisfied with thier job are ({ci_lower:.3f} , {ci_upper:.3f})\")\n",
        "print(f\"The pecentage proption of people satisifed with thier job are ( {ci_lower*100:.3f}% , {ci_upper*100:.3f}% )\")"
      ],
      "metadata": {
        "colab": {
          "base_uri": "https://localhost:8080/"
        },
        "id": "rMNID1baUhOf",
        "outputId": "56a8c4de-2456-4931-a19c-776909444155"
      },
      "execution_count": 4,
      "outputs": [
        {
          "output_type": "stream",
          "name": "stdout",
          "text": [
            "For 95 % Confidence Interval the true proption Of people satisfied with thier job are (0.608 , 0.692)\n",
            "The pecentage proption of people satisifed with thier job are ( 60.819% , 69.181% )\n"
          ]
        }
      ]
    },
    {
      "cell_type": "markdown",
      "source": [
        "Q12. A researcher is testing the effectiveness of two different teaching methods on student performance.\n",
        "Sample A has a mean score of 85 with a standard deviation of 6, while sample B has a mean score of 82\n",
        "with a standard deviation of 5. Conduct a hypothesis test to determine if the two teaching methods have a\n",
        "significant difference in student performance using a t-test with a significance level of 0.01.\n"
      ],
      "metadata": {
        "id": "idHJV1xkOrvG"
      }
    },
    {
      "cell_type": "code",
      "source": [
        "import math\n",
        "from scipy.stats import t\n",
        "null_hypothesis = \"The teaching methods of A and B do not have a significant difference in student performance\"\n",
        "# null hypothesis μA - μB = 0\n",
        "alternate_hypothesis = \"The teaching methods of A and B have a significant difference in student performance\"\n",
        "#alternate hypothesis μA - μB ≠ 0.\n",
        "\n",
        "#Sample A\n",
        "mean1 =85\n",
        "std1 =6\n",
        "\n",
        "#Sample B\n",
        "mean2=82\n",
        "std2=5\n",
        "\n",
        "alpha =0.01\n",
        "#since sample sizes of a and b are not given assuming both are 30 and equal\n",
        "n1 = 30\n",
        "n2 = 30\n",
        "#degree of freedom\n",
        "df = n1 + n2 -2\n",
        "\n",
        "#Pooled Standard Error = √[( (Sample A Standard Deviation)^2 / Sample A Size) + ( (Sample B Standard Deviation)^2 / Sample B Size )]\n",
        "# Calculate pooled standard deviation\n",
        "sp = math.sqrt(((std1 ** 2) / n1) + ((std2 ** 2) / n2))\n",
        "\n",
        "# Calculate t-statistic\n",
        "#t = (Sample A Mean - Sample B Mean) / Pooled Standard Error\n",
        "t_stat = (mean1 - mean2) / sp\n",
        "\n",
        "# Calculate critical t-value\n",
        "t_crit = t.ppf(1-alpha / 2, df)\n",
        "\n",
        "# Calculate p-value\n",
        "p_value = 2 * (1 - t.cdf(t_stat, df))\n",
        "\n",
        "# Print results\n",
        "print(f\"t-statistic: {t_stat:.3f}\")\n",
        "print(f\"Critical t-value: {t_crit:.3f}\")\n",
        "print(f\"p-value: {p_value:.3f}\")\n",
        "\n",
        "if abs(t_stat) > t_crit:\n",
        "    print(\"Reject null hypothesis.\")\n",
        "    print(\"Final Conclusion : \",alternate_hypothesis)\n",
        "else:\n",
        "    print(\"Fail to reject null hypothesis.\")\n",
        "    print(\"Final Conclusion : \" ,null_hypothesis)"
      ],
      "metadata": {
        "colab": {
          "base_uri": "https://localhost:8080/"
        },
        "id": "-4eIgZJ9UmB_",
        "outputId": "bc479d1d-0e46-4085-f4da-9af933f3482b"
      },
      "execution_count": 5,
      "outputs": [
        {
          "output_type": "stream",
          "name": "stdout",
          "text": [
            "t-statistic: 2.104\n",
            "Critical t-value: 2.663\n",
            "p-value: 0.040\n",
            "Fail to reject null hypothesis.\n",
            "Final Conclusion :  The teaching methods of A and B do not have a significant difference in student performance\n"
          ]
        }
      ]
    },
    {
      "cell_type": "markdown",
      "source": [
        "Q13. A population has a mean of 60 and a standard deviation of 8. A sample of 50 observations has a mean\n",
        "of 65. Calculate the 90% confidence interval for the true population mean.\n"
      ],
      "metadata": {
        "id": "5NlcSTjjOtkt"
      }
    },
    {
      "cell_type": "code",
      "source": [
        "from scipy.stats import norm\n",
        "import math\n",
        "\n",
        "pop_mean = 60\n",
        "pop_std =8\n",
        "n=50\n",
        "sample_mean=65\n",
        "ci =0.90\n",
        "alpha =1-ci\n",
        "\n",
        "z_critical = norm.ppf(1 - (1 - ci) / 2)\n",
        "\n",
        "margin_of_error = z_critical*(pop_std/math.sqrt(n))\n",
        "\n",
        "# Calculate the lower and upper bounds of the confidence interval\n",
        "lower_bound = sample_mean - margin_of_error\n",
        "upper_bound = sample_mean + margin_of_error\n",
        "\n",
        "\n",
        "print(\"Z - Value :\",z_critical)\n",
        "print(f\"90% Confidence Interval: ({lower_bound:.3f}, {upper_bound:.3f})\")"
      ],
      "metadata": {
        "colab": {
          "base_uri": "https://localhost:8080/"
        },
        "id": "rngihmKGUpk3",
        "outputId": "019fe94e-3cdd-4296-b70a-3a9b86468d82"
      },
      "execution_count": 6,
      "outputs": [
        {
          "output_type": "stream",
          "name": "stdout",
          "text": [
            "Z - Value : 1.6448536269514722\n",
            "90% Confidence Interval: (63.139, 66.861)\n"
          ]
        }
      ]
    },
    {
      "cell_type": "markdown",
      "source": [
        "Q14. In a study of the effects of caffeine on reaction time, a sample of 30 participants had an average\n",
        "reaction time of 0.25 seconds with a standard deviation of 0.05 seconds. Conduct a hypothesis test to\n"
      ],
      "metadata": {
        "id": "GqkPvKwLOu81"
      }
    },
    {
      "cell_type": "code",
      "source": [
        "import math\n",
        "from scipy.stats import t\n",
        "\n",
        "null_hypothesis = \"Caffiene has no significant effect on reaction time equal to 0.25 sec\"\n",
        "alternate_hypothesis = \"Caffiene has significant effect on reaction time equal to 0.25 sec\"\n",
        "n=30\n",
        "sample_mean=0.25\n",
        "sample_std=0.05\n",
        "pop_mean = 0.25 #from null hypothesis\n",
        "ci = 0.90\n",
        "alpha = 1-ci\n",
        "df = n-1\n",
        "\n",
        "#t = (Sample Mean - Population Mean) / (Sample Standard Deviation / √Sample Size)\n",
        "t_stat = (sample_mean - pop_mean)/(sample_std/math.sqrt(n))\n",
        "\n",
        "# Calculate the critical t-value\n",
        "t_crit = stats.t.ppf(1-alpha/2,df)\n",
        "\n",
        "# Calculate the confidence interval\n",
        "margin_of_error = t_crit * (sample_std / math.sqrt(n))\n",
        "lower_ci = sample_mean - margin_of_error\n",
        "upper_ci = sample_mean + margin_of_error\n",
        "\n",
        "print(\"t-statistic : \",t_stat)\n",
        "print(\"t-critical : \",t_crit)\n",
        "print(f\"At 90% Confidence Interval the bounds are : ( {lower_ci} , {upper_ci} )\" )\n",
        "\n",
        "if t_stat > t_crit:\n",
        "    print(\"Reject the null hypothesis\")\n",
        "    print(\"Final Conculsion : \",alternate_hypothesis)\n",
        "\n",
        "else:\n",
        "    print(\"Failed to Reject the null hypothesis\")\n",
        "    print(\"Final Conculsion : \",null_hypothesis)"
      ],
      "metadata": {
        "colab": {
          "base_uri": "https://localhost:8080/"
        },
        "id": "6i0kbG2aUtaX",
        "outputId": "0d9ef076-ae6d-452a-b4f6-f7245ed232fa"
      },
      "execution_count": 7,
      "outputs": [
        {
          "output_type": "stream",
          "name": "stdout",
          "text": [
            "t-statistic :  0.0\n",
            "t-critical :  1.6991270265334972\n",
            "At 90% Confidence Interval the bounds are : ( 0.2344891633250154 , 0.2655108366749846 )\n",
            "Failed to Reject the null hypothesis\n",
            "Final Conculsion :  Caffiene has no significant effect on reaction time equal to 0.25 sec\n"
          ]
        }
      ]
    },
    {
      "cell_type": "markdown",
      "source": [],
      "metadata": {
        "id": "w5xZXGdeOvsF"
      }
    }
  ]
}